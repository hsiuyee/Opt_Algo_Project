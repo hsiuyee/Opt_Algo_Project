{
  "nbformat": 4,
  "nbformat_minor": 0,
  "metadata": {
    "colab": {
      "provenance": []
    },
    "kernelspec": {
      "name": "python3",
      "display_name": "Python 3"
    },
    "language_info": {
      "name": "python"
    }
  },
  "cells": [
    {
      "cell_type": "markdown",
      "source": [
        "# install"
      ],
      "metadata": {
        "id": "cQ9j9CCR5iiH"
      }
    },
    {
      "cell_type": "code",
      "source": [
        "!pip install libsvm"
      ],
      "metadata": {
        "colab": {
          "base_uri": "https://localhost:8080/"
        },
        "id": "clhwPirp8v9X",
        "outputId": "72668ac1-1028-48f0-afa6-216b7330c7e5"
      },
      "execution_count": null,
      "outputs": [
        {
          "output_type": "stream",
          "name": "stdout",
          "text": [
            "Requirement already satisfied: libsvm in /usr/local/lib/python3.10/dist-packages (3.23.0.4)\n"
          ]
        }
      ]
    },
    {
      "cell_type": "code",
      "source": [
        "# ijcnn1\n",
        "!wget https://www.csie.ntu.edu.tw/~cjlin/libsvmtools/datasets/binary/ijcnn1.tr.bz2 -O ijcnn1.tr.bz2\n",
        "!bzip2 -d ijcnn1.tr.bz2\n",
        "\n",
        "# w8a\n",
        "!wget https://www.csie.ntu.edu.tw/~cjlin/libsvmtools/datasets/binary/w8a -O w8a\n",
        "\n",
        "# mushrooms\n",
        "!wget https://www.csie.ntu.edu.tw/~cjlin/libsvmtools/datasets/binary/mushrooms -O mushrooms\n",
        "\n",
        "# phishing\n",
        "!wget https://www.csie.ntu.edu.tw/~cjlin/libsvmtools/datasets/binary/phishing -O phishing"
      ],
      "metadata": {
        "colab": {
          "base_uri": "https://localhost:8080/"
        },
        "id": "-nostUyI8ykk",
        "outputId": "e7170f17-e3cb-4a6e-d543-f950a4a26cc1"
      },
      "execution_count": null,
      "outputs": [
        {
          "output_type": "stream",
          "name": "stdout",
          "text": [
            "--2024-10-02 16:15:09--  https://www.csie.ntu.edu.tw/~cjlin/libsvmtools/datasets/binary/ijcnn1.tr.bz2\n",
            "Resolving www.csie.ntu.edu.tw (www.csie.ntu.edu.tw)... 140.112.30.26\n",
            "Connecting to www.csie.ntu.edu.tw (www.csie.ntu.edu.tw)|140.112.30.26|:443... connected.\n",
            "HTTP request sent, awaiting response... 200 OK\n",
            "Length: 964465 (942K) [application/x-bzip2]\n",
            "Saving to: ‘ijcnn1.tr.bz2’\n",
            "\n",
            "ijcnn1.tr.bz2       100%[===================>] 941.86K   716KB/s    in 1.3s    \n",
            "\n",
            "2024-10-02 16:15:11 (716 KB/s) - ‘ijcnn1.tr.bz2’ saved [964465/964465]\n",
            "\n",
            "--2024-10-02 16:15:12--  https://www.csie.ntu.edu.tw/~cjlin/libsvmtools/datasets/binary/w8a\n",
            "Resolving www.csie.ntu.edu.tw (www.csie.ntu.edu.tw)... 140.112.30.26\n",
            "Connecting to www.csie.ntu.edu.tw (www.csie.ntu.edu.tw)|140.112.30.26|:443... connected.\n",
            "HTTP request sent, awaiting response... 200 OK\n",
            "Length: 3478238 (3.3M)\n",
            "Saving to: ‘w8a’\n",
            "\n",
            "w8a                  10%[=>                  ] 356.57K   317KB/s               "
          ]
        }
      ]
    },
    {
      "cell_type": "markdown",
      "source": [
        "# data"
      ],
      "metadata": {
        "id": "k9iUHWmr5lQ5"
      }
    },
    {
      "cell_type": "code",
      "source": [
        "from sklearn.datasets import load_svmlight_file\n",
        "from sklearn.preprocessing import normalize\n",
        "import numpy as np\n",
        "import pandas as pd\n",
        "\n",
        "# seed\n",
        "seed = 42\n",
        "np.random.seed(seed)\n",
        "\n",
        "# 定义数据集处理函数并保存为 CSV，包含正则化\n",
        "def load_and_save_csv(file_path, output_csv, n=1000):\n",
        "    X, y = load_svmlight_file(file_path)\n",
        "    indices = np.random.choice(X.shape[0], n, replace=False)\n",
        "    X_subset = X[indices].toarray()\n",
        "    y_subset = y[indices]\n",
        "\n",
        "    # normalize\n",
        "    X_normalized = normalize(X_subset, norm='l2', axis=1)\n",
        "\n",
        "    # combine\n",
        "    df = pd.DataFrame(X_normalized)\n",
        "    df['label'] = y_subset\n",
        "\n",
        "    # to csv\n",
        "    df.to_csv(output_csv, index=False)\n",
        "\n",
        "# process csv\n",
        "load_and_save_csv('ijcnn1.tr', 'subset_ijcnn1.csv')\n",
        "load_and_save_csv('w8a', 'subset_w8a.csv')\n",
        "load_and_save_csv('mushrooms', 'subset_mushrooms.csv')\n",
        "load_and_save_csv('phishing', 'subset_phishing.csv')\n"
      ],
      "metadata": {
        "id": "ZAo3vuhu5VgG"
      },
      "execution_count": null,
      "outputs": []
    },
    {
      "cell_type": "code",
      "source": [
        "from google.colab import files\n",
        "\n",
        "# download\n",
        "# files.download('subset_ijcnn1.csv')\n",
        "files.download('subset_w8a.csv')\n",
        "# files.download('subset_mushrooms.csv')\n",
        "# files.download('subset_phishing.csv')"
      ],
      "metadata": {
        "colab": {
          "base_uri": "https://localhost:8080/",
          "height": 34
        },
        "id": "EsEgJ87H9BNl",
        "outputId": "ab031bf7-b4c3-429e-8071-29456c7f004c"
      },
      "execution_count": null,
      "outputs": [
        {
          "output_type": "display_data",
          "data": {
            "text/plain": [
              "<IPython.core.display.Javascript object>"
            ],
            "application/javascript": [
              "\n",
              "    async function download(id, filename, size) {\n",
              "      if (!google.colab.kernel.accessAllowed) {\n",
              "        return;\n",
              "      }\n",
              "      const div = document.createElement('div');\n",
              "      const label = document.createElement('label');\n",
              "      label.textContent = `Downloading \"${filename}\": `;\n",
              "      div.appendChild(label);\n",
              "      const progress = document.createElement('progress');\n",
              "      progress.max = size;\n",
              "      div.appendChild(progress);\n",
              "      document.body.appendChild(div);\n",
              "\n",
              "      const buffers = [];\n",
              "      let downloaded = 0;\n",
              "\n",
              "      const channel = await google.colab.kernel.comms.open(id);\n",
              "      // Send a message to notify the kernel that we're ready.\n",
              "      channel.send({})\n",
              "\n",
              "      for await (const message of channel.messages) {\n",
              "        // Send a message to notify the kernel that we're ready.\n",
              "        channel.send({})\n",
              "        if (message.buffers) {\n",
              "          for (const buffer of message.buffers) {\n",
              "            buffers.push(buffer);\n",
              "            downloaded += buffer.byteLength;\n",
              "            progress.value = downloaded;\n",
              "          }\n",
              "        }\n",
              "      }\n",
              "      const blob = new Blob(buffers, {type: 'application/binary'});\n",
              "      const a = document.createElement('a');\n",
              "      a.href = window.URL.createObjectURL(blob);\n",
              "      a.download = filename;\n",
              "      div.appendChild(a);\n",
              "      a.click();\n",
              "      div.remove();\n",
              "    }\n",
              "  "
            ]
          },
          "metadata": {}
        },
        {
          "output_type": "display_data",
          "data": {
            "text/plain": [
              "<IPython.core.display.Javascript object>"
            ],
            "application/javascript": [
              "download(\"download_f2906db7-71c6-4d1e-b1ac-737101281b05\", \"subset_w8a.csv\", 1367672)"
            ]
          },
          "metadata": {}
        }
      ]
    }
  ]
}